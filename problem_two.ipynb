{
 "cells": [
  {
   "cell_type": "markdown",
   "metadata": {},
   "source": [
    "# Problem 2"
   ]
  },
  {
   "cell_type": "markdown",
   "metadata": {},
   "source": [
    "We've been provided files of yearly game appearance statistics for every\n",
    "player to have played in Major League Baseball between 1871 and 2014. The goal is to download these files and produce a list of triples of teams for which at least 50 players have played for all three teams. For example, Alex Rodriguez has played for the Mariners, Rangers, and Yankees, and thus he would count once for the Mariners/Rangers/Yankees triple. The time and space complexity of the algorithm should also be provided."
   ]
  },
  {
   "cell_type": "markdown",
   "metadata": {},
   "source": [
    "In the following, let $n_\\text{files}$ represent the number of files, $n_\\text{years}$ the number of years, $n_\\text{players}$ the total number of players, and $n_\\text{teams}$ the total number of teams."
   ]
  },
  {
   "cell_type": "markdown",
   "metadata": {},
   "source": [
    "## Download"
   ]
  },
  {
   "cell_type": "markdown",
   "metadata": {},
   "source": [
    "The first step is to download the data."
   ]
  },
  {
   "cell_type": "code",
   "execution_count": 2,
   "metadata": {},
   "outputs": [
    {
     "name": "stdout",
     "output_type": "stream",
     "text": [
      "Time to download files: 33.86386299133301\n"
     ]
    }
   ],
   "source": [
    "import pandas as pd\n",
    "import time\n",
    "\n",
    "year_start, year_end = 1871, 2014\n",
    "\n",
    "t0 = time.time()\n",
    "df = pd.DataFrame()\n",
    "for year in range(year_start, year_end):\n",
    "    df_yr = pd.read_csv(\n",
    "        'https://s3.amazonaws.com/dd-interview-data/data_scientist/baseball/appearances/'\n",
    "        '{}/{}-0,000'.format(year, year),\n",
    "        header=None, usecols=[1, 3], names=['team', 'player'])\n",
    "    df = df.append(df_yr)\n",
    "print('Time to download files:', time.time() - t0)"
   ]
  },
  {
   "cell_type": "code",
   "execution_count": 3,
   "metadata": {},
   "outputs": [
    {
     "data": {
      "text/html": [
       "<div>\n",
       "<style scoped>\n",
       "    .dataframe tbody tr th:only-of-type {\n",
       "        vertical-align: middle;\n",
       "    }\n",
       "\n",
       "    .dataframe tbody tr th {\n",
       "        vertical-align: top;\n",
       "    }\n",
       "\n",
       "    .dataframe thead th {\n",
       "        text-align: right;\n",
       "    }\n",
       "</style>\n",
       "<table border=\"1\" class=\"dataframe\">\n",
       "  <thead>\n",
       "    <tr style=\"text-align: right;\">\n",
       "      <th></th>\n",
       "      <th>team</th>\n",
       "      <th>player</th>\n",
       "    </tr>\n",
       "  </thead>\n",
       "  <tbody>\n",
       "    <tr>\n",
       "      <th>0</th>\n",
       "      <td>RC1</td>\n",
       "      <td>hamra01</td>\n",
       "    </tr>\n",
       "    <tr>\n",
       "      <th>1</th>\n",
       "      <td>RC1</td>\n",
       "      <td>addybo01</td>\n",
       "    </tr>\n",
       "    <tr>\n",
       "      <th>2</th>\n",
       "      <td>CL1</td>\n",
       "      <td>bassjo01</td>\n",
       "    </tr>\n",
       "    <tr>\n",
       "      <th>3</th>\n",
       "      <td>RC1</td>\n",
       "      <td>birdge01</td>\n",
       "    </tr>\n",
       "    <tr>\n",
       "      <th>4</th>\n",
       "      <td>BS1</td>\n",
       "      <td>conefr01</td>\n",
       "    </tr>\n",
       "  </tbody>\n",
       "</table>\n",
       "</div>"
      ],
      "text/plain": [
       "  team    player\n",
       "0  RC1   hamra01\n",
       "1  RC1  addybo01\n",
       "2  CL1  bassjo01\n",
       "3  RC1  birdge01\n",
       "4  BS1  conefr01"
      ]
     },
     "execution_count": 3,
     "metadata": {},
     "output_type": "execute_result"
    }
   ],
   "source": [
    "df.head()"
   ]
  },
  {
   "cell_type": "markdown",
   "metadata": {},
   "source": [
    "Each row corresponds to a player on a team, regardless of year. That means it's likely there'll be rows with the same team and player. The other columns were not needed to solve the problem and hence were excluded to reduce actual space used."
   ]
  },
  {
   "cell_type": "code",
   "execution_count": 4,
   "metadata": {},
   "outputs": [
    {
     "name": "stdout",
     "output_type": "stream",
     "text": [
      "Number of rows is 98146\n"
     ]
    }
   ],
   "source": [
    "print('Number of rows is', len(df))"
   ]
  },
  {
   "cell_type": "markdown",
   "metadata": {},
   "source": [
    "The time complexity of the download step is $O(n_\\text{files}) = O(n_\\text{years})$. The worst-case space complexity is $O(n_\\text{years}n_\\text{players})$, but because the number of players in each file corresponds to a fraction of the total number of players, the average or amortized cost is expected to be much less."
   ]
  },
  {
   "cell_type": "markdown",
   "metadata": {},
   "source": [
    "## Algorithm"
   ]
  },
  {
   "cell_type": "markdown",
   "metadata": {},
   "source": [
    "Now that we have the data, we need to find team triples in which at least 50 players have played for all three teams. This requires iterating over all triples and finding intersections between sets of players who've played for each team. Searching the DataFrame above by team to get a list of all players who've played for that team is $O(n)$, so we wouldn't want to do that for each team in each triple. Instead, we'll create an index on team so we can lookup by team key in $O(1)$."
   ]
  },
  {
   "cell_type": "code",
   "execution_count": 5,
   "metadata": {},
   "outputs": [],
   "source": [
    "df = df.set_index('team')"
   ]
  },
  {
   "cell_type": "code",
   "execution_count": 6,
   "metadata": {},
   "outputs": [
    {
     "data": {
      "text/html": [
       "<div>\n",
       "<style scoped>\n",
       "    .dataframe tbody tr th:only-of-type {\n",
       "        vertical-align: middle;\n",
       "    }\n",
       "\n",
       "    .dataframe tbody tr th {\n",
       "        vertical-align: top;\n",
       "    }\n",
       "\n",
       "    .dataframe thead th {\n",
       "        text-align: right;\n",
       "    }\n",
       "</style>\n",
       "<table border=\"1\" class=\"dataframe\">\n",
       "  <thead>\n",
       "    <tr style=\"text-align: right;\">\n",
       "      <th></th>\n",
       "      <th>player</th>\n",
       "    </tr>\n",
       "    <tr>\n",
       "      <th>team</th>\n",
       "      <th></th>\n",
       "    </tr>\n",
       "  </thead>\n",
       "  <tbody>\n",
       "    <tr>\n",
       "      <th>RC1</th>\n",
       "      <td>hamra01</td>\n",
       "    </tr>\n",
       "    <tr>\n",
       "      <th>RC1</th>\n",
       "      <td>addybo01</td>\n",
       "    </tr>\n",
       "    <tr>\n",
       "      <th>CL1</th>\n",
       "      <td>bassjo01</td>\n",
       "    </tr>\n",
       "    <tr>\n",
       "      <th>RC1</th>\n",
       "      <td>birdge01</td>\n",
       "    </tr>\n",
       "    <tr>\n",
       "      <th>BS1</th>\n",
       "      <td>conefr01</td>\n",
       "    </tr>\n",
       "  </tbody>\n",
       "</table>\n",
       "</div>"
      ],
      "text/plain": [
       "        player\n",
       "team          \n",
       "RC1    hamra01\n",
       "RC1   addybo01\n",
       "CL1   bassjo01\n",
       "RC1   birdge01\n",
       "BS1   conefr01"
      ]
     },
     "execution_count": 6,
     "metadata": {},
     "output_type": "execute_result"
    }
   ],
   "source": [
    "df.head()"
   ]
  },
  {
   "cell_type": "markdown",
   "metadata": {},
   "source": [
    "Indexing requires $O(n_\\text{years}n_\\text{players})$ in the worst-case, but no added space complexity."
   ]
  },
  {
   "cell_type": "markdown",
   "metadata": {},
   "source": [
    "Next we'll get a list of unique teams. Because the teams have been hashed, this takes $O(1)$, with space complexity $O(n_\\text{teams})$."
   ]
  },
  {
   "cell_type": "code",
   "execution_count": 7,
   "metadata": {},
   "outputs": [
    {
     "name": "stdout",
     "output_type": "stream",
     "text": [
      "Index(['RC1', 'CL1', 'BS1', 'WS3', 'CH1', 'TRO', 'FW1', 'PH1', 'NY2', 'BR2',\n",
      "       ...\n",
      "       'SEA', 'TOR', 'FLO', 'COL', 'ANA', 'ARI', 'MIL', 'TBA', 'WAS', 'MIA'],\n",
      "      dtype='object', name='team', length=150)\n"
     ]
    }
   ],
   "source": [
    "teams = df.index.unique()\n",
    "print(teams)"
   ]
  },
  {
   "cell_type": "code",
   "execution_count": 8,
   "metadata": {},
   "outputs": [
    {
     "name": "stdout",
     "output_type": "stream",
     "text": [
      "Number of teams is 150\n"
     ]
    }
   ],
   "source": [
    "print('Number of teams is', len(teams))"
   ]
  },
  {
   "cell_type": "markdown",
   "metadata": {},
   "source": [
    "So we can lookup in the DataFrame for all players who've played on a given team."
   ]
  },
  {
   "cell_type": "code",
   "execution_count": 9,
   "metadata": {},
   "outputs": [
    {
     "data": {
      "text/plain": [
       "team\n",
       "RC1      hamra01\n",
       "RC1     addybo01\n",
       "RC1     birdge01\n",
       "RC1     mackde01\n",
       "RC1    ansonca01\n",
       "RC1    barkeal01\n",
       "RC1    fishech01\n",
       "RC1    fulmech01\n",
       "RC1    hastisc01\n",
       "RC1    sagerpo01\n",
       "RC1    stirega01\n",
       "Name: player, dtype: object"
      ]
     },
     "execution_count": 9,
     "metadata": {},
     "output_type": "execute_result"
    }
   ],
   "source": [
    "df.loc['RC1']['player']"
   ]
  },
  {
   "cell_type": "markdown",
   "metadata": {},
   "source": [
    "Finding intersections between the Series for two teams is $O(n^2)$ (worst-case), since you potentially have to iterate through all elements in both arrays. We can hash players on teams as well using sets. This has the added effect of removing duplicates."
   ]
  },
  {
   "cell_type": "code",
   "execution_count": 10,
   "metadata": {},
   "outputs": [],
   "source": [
    "team_players = {}\n",
    "for team in teams:\n",
    "    team_players[team] = set(df.loc[team]['player'])"
   ]
  },
  {
   "cell_type": "markdown",
   "metadata": {},
   "source": [
    "This has time and space complexities of $O(n_\\text{teams}n_\\text{players})$ (worst-case). Again, average or amortized costs will be significantly lower."
   ]
  },
  {
   "cell_type": "markdown",
   "metadata": {},
   "source": [
    "To get the answer, we have only to loop through all combinations of triples, look up the players for each team, and get the intersections. We'd like to cut down on the number of triples we have to consider and intersections we need to compute, so we'll create another hash table mapping pairs of teams to the set of their common players. That way, if those pairs don't have at least 50 players in common, they can't produce a triple and can be skipped."
   ]
  },
  {
   "cell_type": "code",
   "execution_count": 13,
   "metadata": {},
   "outputs": [],
   "source": [
    "from itertools import combinations\n",
    "\n",
    "team_players_intersections = {}\n",
    "for team_1, team_2 in combinations(teams, 2):\n",
    "    team_players_intersections[(team_1, team_2)] = \\\n",
    "        team_players[team_1].intersection(team_players[team_2])"
   ]
  },
  {
   "cell_type": "markdown",
   "metadata": {},
   "source": [
    "This has worst-case time and space complexities of $O(n_\\text{teams}^2n_\\text{players})$."
   ]
  },
  {
   "cell_type": "markdown",
   "metadata": {},
   "source": [
    "Check how many of these pairs have at least 50 players."
   ]
  },
  {
   "cell_type": "code",
   "execution_count": 84,
   "metadata": {},
   "outputs": [
    {
     "name": "stdout",
     "output_type": "stream",
     "text": [
      "372\n"
     ]
    }
   ],
   "source": [
    "min_players_needed = 50\n",
    "print(\n",
    "    sum([len(v) >= min_players_needed for v in team_players_intersections.values()]))"
   ]
  },
  {
   "cell_type": "markdown",
   "metadata": {},
   "source": [
    "That's two orders of magnitude smaller than the total number of double combinations (11,175)."
   ]
  },
  {
   "cell_type": "markdown",
   "metadata": {},
   "source": [
    "Now simply look through all triples."
   ]
  },
  {
   "cell_type": "code",
   "execution_count": 76,
   "metadata": {},
   "outputs": [
    {
     "name": "stdout",
     "output_type": "stream",
     "text": [
      "Done in 0.21820402145385742\n"
     ]
    }
   ],
   "source": [
    "team_triples = []\n",
    "\n",
    "t0 = time.time()\n",
    "for team_1, team_2, team_3 in combinations(teams, 3):\n",
    "    common_players = team_players_intersections[(team_1, team_2)]\n",
    "    \n",
    "    if len(common_players) < min_players_needed:\n",
    "        continue\n",
    "        \n",
    "    if len(common_players.intersection(team_players[team_3])) >= min_players_needed:\n",
    "        team_triples.append((team_1, team_2, team_3))\n",
    "\n",
    "print('Done in', time.time() - t0)"
   ]
  },
  {
   "cell_type": "markdown",
   "metadata": {},
   "source": [
    "The time complexity is $O(n_\\text{teams}^3n_\\text{players})$ (worst-case). Space complexity is effectively $O(n_\\text{players})$."
   ]
  },
  {
   "cell_type": "markdown",
   "metadata": {},
   "source": [
    "Here is the answer."
   ]
  },
  {
   "cell_type": "code",
   "execution_count": 78,
   "metadata": {},
   "outputs": [
    {
     "data": {
      "text/plain": [
       "[('CHN', 'PHI', 'CIN'),\n",
       " ('CHN', 'PHI', 'SLN'),\n",
       " ('CHN', 'PIT', 'CIN'),\n",
       " ('CHN', 'CIN', 'SLN'),\n",
       " ('PHI', 'PIT', 'CIN'),\n",
       " ('PHI', 'PIT', 'SLN'),\n",
       " ('PHI', 'CIN', 'SLN'),\n",
       " ('PIT', 'CIN', 'SLN'),\n",
       " ('CHA', 'CLE', 'BOS'),\n",
       " ('CHA', 'CLE', 'NYA')]"
      ]
     },
     "execution_count": 78,
     "metadata": {},
     "output_type": "execute_result"
    }
   ],
   "source": [
    "team_triples"
   ]
  },
  {
   "cell_type": "markdown",
   "metadata": {},
   "source": [
    "Verify."
   ]
  },
  {
   "cell_type": "code",
   "execution_count": 89,
   "metadata": {},
   "outputs": [
    {
     "name": "stdout",
     "output_type": "stream",
     "text": [
      "54\n",
      "68\n",
      "53\n",
      "74\n",
      "54\n",
      "50\n",
      "80\n",
      "63\n",
      "52\n",
      "50\n"
     ]
    }
   ],
   "source": [
    "for team_1, team_2, team_3 in team_triples:\n",
    "    print(len(\n",
    "        team_players[team_1].intersection(\n",
    "        team_players[team_2]).intersection(\n",
    "        team_players[team_3])))"
   ]
  },
  {
   "cell_type": "markdown",
   "metadata": {},
   "source": [
    "## Complexity"
   ]
  },
  {
   "cell_type": "markdown",
   "metadata": {},
   "source": [
    "$Time$. Adding up the above, the total time complexity of the algorithm (excluding download time) is effectively $O(n_\\text{teams}^3n_\\text{players})$ (worst-case). However, because the number of triples to consider was reduced a few orders of magnitude, and the number of players that have been on each team is much smaller than the total number of players, the actual cost is significantly lower, as shown. Specifically, if $n_\\text{doubles}$ represents the number of pairs of teams with at least 50 players in common, then the complexity is more like $O(n_\\text{doubles}n_\\text{teams}n_\\text{players})$."
   ]
  },
  {
   "cell_type": "markdown",
   "metadata": {},
   "source": [
    "$Space$. Adding up the above, the total space complexity is effectively $O(n_\\text{teams}^2n_\\text{players})$ (worst-case). Again, because the number of players on each team is much smaller than the total number, the actual cost is significantly lower."
   ]
  }
 ],
 "metadata": {
  "kernelspec": {
   "display_name": "Python 3",
   "language": "python",
   "name": "python3"
  },
  "language_info": {
   "codemirror_mode": {
    "name": "ipython",
    "version": 3
   },
   "file_extension": ".py",
   "mimetype": "text/x-python",
   "name": "python",
   "nbconvert_exporter": "python",
   "pygments_lexer": "ipython3",
   "version": "3.6.5"
  }
 },
 "nbformat": 4,
 "nbformat_minor": 2
}
